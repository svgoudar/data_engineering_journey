{
 "cells": [
  {
   "cell_type": "code",
   "execution_count": 1,
   "metadata": {},
   "outputs": [],
   "source": [
    "from pyspark.sql import SparkSession"
   ]
  },
  {
   "cell_type": "code",
   "execution_count": 2,
   "metadata": {},
   "outputs": [
    {
     "name": "stdout",
     "output_type": "stream",
     "text": [
      ":: loading settings :: url = jar:file:/usr/local/lib/python3.8/dist-packages/pyspark/jars/ivy-2.5.0.jar!/org/apache/ivy/core/settings/ivysettings.xml\n"
     ]
    },
    {
     "name": "stderr",
     "output_type": "stream",
     "text": [
      "Ivy Default Cache set to: /root/.ivy2/cache\n",
      "The jars for the packages stored in: /root/.ivy2/jars\n",
      "org.apache.spark#spark-sql-kafka-0-10_2.12 added as a dependency\n",
      "com.datastax.spark#spark-cassandra-connector_2.12 added as a dependency\n",
      ":: resolving dependencies :: org.apache.spark#spark-submit-parent-df751cf9-c61b-42db-a91e-01b7067d9edf;1.0\n",
      "\tconfs: [default]\n",
      "\tfound org.apache.spark#spark-sql-kafka-0-10_2.12;3.0.1 in central\n",
      "\tfound org.apache.spark#spark-token-provider-kafka-0-10_2.12;3.0.1 in central\n",
      "\tfound org.apache.kafka#kafka-clients;2.4.1 in central\n",
      "\tfound com.github.luben#zstd-jni;1.4.4-3 in central\n",
      "\tfound org.lz4#lz4-java;1.7.1 in central\n",
      "\tfound org.xerial.snappy#snappy-java;1.1.7.5 in central\n",
      "\tfound org.slf4j#slf4j-api;1.7.30 in central\n",
      "\tfound org.spark-project.spark#unused;1.0.0 in central\n",
      "\tfound org.apache.commons#commons-pool2;2.6.2 in central\n",
      "\tfound com.datastax.spark#spark-cassandra-connector_2.12;3.0.0 in central\n",
      "\tfound com.datastax.spark#spark-cassandra-connector-driver_2.12;3.0.0 in central\n",
      "\tfound com.datastax.oss#java-driver-core-shaded;4.7.2 in central\n",
      "\tfound com.datastax.oss#native-protocol;1.4.10 in central\n",
      "\tfound com.datastax.oss#java-driver-shaded-guava;25.1-jre-graal-sub-1 in central\n",
      "\tfound com.typesafe#config;1.3.4 in central\n",
      "\tfound io.dropwizard.metrics#metrics-core;4.0.5 in central\n",
      "\tfound org.hdrhistogram#HdrHistogram;2.1.11 in central\n",
      "\tfound org.javatuples#javatuples;1.2 in central\n",
      "\tfound org.reactivestreams#reactive-streams;1.0.2 in central\n",
      "\tfound com.github.stephenc.jcip#jcip-annotations;1.0-1 in central\n",
      "\tfound com.github.spotbugs#spotbugs-annotations;3.1.12 in central\n",
      "\tfound com.google.code.findbugs#jsr305;3.0.2 in central\n",
      "\tfound com.datastax.oss#java-driver-mapper-runtime;4.7.2 in central\n",
      "\tfound com.datastax.oss#java-driver-query-builder;4.7.2 in central\n",
      "\tfound org.apache.commons#commons-lang3;3.9 in central\n",
      "\tfound com.thoughtworks.paranamer#paranamer;2.8 in central\n",
      "\tfound org.scala-lang#scala-reflect;2.12.11 in central\n",
      ":: resolution report :: resolve 470ms :: artifacts dl 12ms\n",
      "\t:: modules in use:\n",
      "\tcom.datastax.oss#java-driver-core-shaded;4.7.2 from central in [default]\n",
      "\tcom.datastax.oss#java-driver-mapper-runtime;4.7.2 from central in [default]\n",
      "\tcom.datastax.oss#java-driver-query-builder;4.7.2 from central in [default]\n",
      "\tcom.datastax.oss#java-driver-shaded-guava;25.1-jre-graal-sub-1 from central in [default]\n",
      "\tcom.datastax.oss#native-protocol;1.4.10 from central in [default]\n",
      "\tcom.datastax.spark#spark-cassandra-connector-driver_2.12;3.0.0 from central in [default]\n",
      "\tcom.datastax.spark#spark-cassandra-connector_2.12;3.0.0 from central in [default]\n",
      "\tcom.github.luben#zstd-jni;1.4.4-3 from central in [default]\n",
      "\tcom.github.spotbugs#spotbugs-annotations;3.1.12 from central in [default]\n",
      "\tcom.github.stephenc.jcip#jcip-annotations;1.0-1 from central in [default]\n",
      "\tcom.google.code.findbugs#jsr305;3.0.2 from central in [default]\n",
      "\tcom.thoughtworks.paranamer#paranamer;2.8 from central in [default]\n",
      "\tcom.typesafe#config;1.3.4 from central in [default]\n",
      "\tio.dropwizard.metrics#metrics-core;4.0.5 from central in [default]\n",
      "\torg.apache.commons#commons-lang3;3.9 from central in [default]\n",
      "\torg.apache.commons#commons-pool2;2.6.2 from central in [default]\n",
      "\torg.apache.kafka#kafka-clients;2.4.1 from central in [default]\n",
      "\torg.apache.spark#spark-sql-kafka-0-10_2.12;3.0.1 from central in [default]\n",
      "\torg.apache.spark#spark-token-provider-kafka-0-10_2.12;3.0.1 from central in [default]\n",
      "\torg.hdrhistogram#HdrHistogram;2.1.11 from central in [default]\n",
      "\torg.javatuples#javatuples;1.2 from central in [default]\n",
      "\torg.lz4#lz4-java;1.7.1 from central in [default]\n",
      "\torg.reactivestreams#reactive-streams;1.0.2 from central in [default]\n",
      "\torg.scala-lang#scala-reflect;2.12.11 from central in [default]\n",
      "\torg.slf4j#slf4j-api;1.7.30 from central in [default]\n",
      "\torg.spark-project.spark#unused;1.0.0 from central in [default]\n",
      "\torg.xerial.snappy#snappy-java;1.1.7.5 from central in [default]\n",
      "\t:: evicted modules:\n",
      "\torg.slf4j#slf4j-api;1.7.26 by [org.slf4j#slf4j-api;1.7.30] in [default]\n",
      "\t---------------------------------------------------------------------\n",
      "\t|                  |            modules            ||   artifacts   |\n",
      "\t|       conf       | number| search|dwnlded|evicted|| number|dwnlded|\n",
      "\t---------------------------------------------------------------------\n",
      "\t|      default     |   28  |   0   |   0   |   1   ||   27  |   0   |\n",
      "\t---------------------------------------------------------------------\n",
      ":: retrieving :: org.apache.spark#spark-submit-parent-df751cf9-c61b-42db-a91e-01b7067d9edf\n",
      "\tconfs: [default]\n",
      "\t0 artifacts copied, 27 already retrieved (0kB/9ms)\n",
      "23/02/20 11:59:44 WARN NativeCodeLoader: Unable to load native-hadoop library for your platform... using builtin-java classes where applicable\n",
      "Using Spark's default log4j profile: org/apache/spark/log4j-defaults.properties\n",
      "Setting default log level to \"WARN\".\n",
      "To adjust logging level use sc.setLogLevel(newLevel). For SparkR, use setLogLevel(newLevel).\n"
     ]
    }
   ],
   "source": [
    "sparkSesison = (SparkSession.builder\n",
    "                 .config(\"spark.cassandra.connection.host\",\"cassandra\")\n",
    "                 .config(\"spark.cassandra.auth.username\",\"cassandra\")\n",
    "                 .config(\"spark.cassandra.auth.password\",\"cassandra\")\n",
    "                 .config(\"spark.jars.packages\",\"org.apache.spark:spark-sql-kafka-0-10_2.12:3.0.1,com.datastax.spark:spark-cassandra-connector_2.12:3.0.0\")\n",
    "                 .appName(\"demo\").getOrCreate()\n",
    "                 )\n"
   ]
  },
  {
   "cell_type": "code",
   "execution_count": 3,
   "metadata": {},
   "outputs": [],
   "source": [
    "from pyspark.sql import DataFrame"
   ]
  },
  {
   "cell_type": "code",
   "execution_count": 4,
   "metadata": {},
   "outputs": [],
   "source": [
    "def dataFrameFromCassandaDbTable(sparkSession:SparkSession,keyspace:str,table:str)->DataFrame:\n",
    "    df = (sparkSession.read\n",
    "        .format(\"org.apache.spark.sql.cassandra\")\n",
    "        .options(table=table, keyspace=keyspace)\n",
    "        .load())\n",
    "    return df"
   ]
  },
  {
   "cell_type": "code",
   "execution_count": 5,
   "metadata": {},
   "outputs": [],
   "source": [
    "df = dataFrameFromCassandaDbTable(sparkSession=sparkSesison,keyspace=\"ineuron\",table=\"employee\")"
   ]
  },
  {
   "cell_type": "code",
   "execution_count": 6,
   "metadata": {},
   "outputs": [
    {
     "name": "stdout",
     "output_type": "stream",
     "text": [
      "+------+----------+--------+-------------+\n",
      "|emp_id|      city|emp_name|        state|\n",
      "+------+----------+--------+-------------+\n",
      "|    30|     Delhi|    Emma|        Delhi|\n",
      "|     2| Bengalore|  Avnish|    Karnataka|\n",
      "|     5|   Chennai|   Berry|    Tamilnadu|\n",
      "|    28| Hyderabad|   Akash|Andra Pradesh|\n",
      "|     6|      Pune|  Barton|  Maharashtra|\n",
      "|    13|     Noida|   Rahul|Uttar Pradesh|\n",
      "|    16|    Nagpur|  Vikash|  Maharashtra|\n",
      "|    23|    Nagpur|    Amit|  Maharashtra|\n",
      "|    26|   Chennai|     Pia|    Tamilnadu|\n",
      "|    21|     Delhi|  Shivam|        Delhi|\n",
      "|    31|New Mumbai|Abhishek|  Maharashtra|\n",
      "|     4|    Mumbai| Stephen|  Maharashtra|\n",
      "|    18|      Pune|    Adam|  Maharashtra|\n",
      "|    24| Hyderabad| Susmita|Andra Pradesh|\n",
      "|    27|      Pune|   Ankit|  Maharashtra|\n",
      "|    14|     Delhi|   Sunny|        Delhi|\n",
      "|    20|     Noida|  Robert|Uttar Pradesh|\n",
      "|    11|    Nagpur|   Krish|  Maharashtra|\n",
      "|     1| Bengalore|  Avnish|    Karnataka|\n",
      "|    25|    Mumbai|    Iris|  Maharashtra|\n",
      "+------+----------+--------+-------------+\n",
      "only showing top 20 rows\n",
      "\n"
     ]
    }
   ],
   "source": [
    "df.show()"
   ]
  },
  {
   "cell_type": "code",
   "execution_count": 7,
   "metadata": {},
   "outputs": [
    {
     "data": {
      "text/plain": [
       "30"
      ]
     },
     "execution_count": 7,
     "metadata": {},
     "output_type": "execute_result"
    }
   ],
   "source": [
    "df.count()"
   ]
  },
  {
   "cell_type": "code",
   "execution_count": 10,
   "metadata": {},
   "outputs": [
    {
     "name": "stdout",
     "output_type": "stream",
     "text": [
      "+-------------+----------+-----+\n",
      "|        state|      city|count|\n",
      "+-------------+----------+-----+\n",
      "|Uttar Pradesh|     Noida|    4|\n",
      "|  Maharashtra|New Mumbai|    4|\n",
      "|    Tamilnadu|   Chennai|    3|\n",
      "|  Maharashtra|    Mumbai|    2|\n",
      "|  Maharashtra|      Pune|    3|\n",
      "|Andra Pradesh| Hyderabad|    5|\n",
      "|        Delhi|     Delhi|    4|\n",
      "|  Maharashtra|    Nagpur|    3|\n",
      "|    Karnataka| Bengalore|    2|\n",
      "+-------------+----------+-----+\n",
      "\n"
     ]
    }
   ],
   "source": [
    "df.groupBy(['state','city']).count().show()"
   ]
  },
  {
   "cell_type": "code",
   "execution_count": 11,
   "metadata": {},
   "outputs": [],
   "source": [
    "df.createOrReplaceTempView(\"emp\")"
   ]
  },
  {
   "cell_type": "code",
   "execution_count": 13,
   "metadata": {},
   "outputs": [
    {
     "name": "stdout",
     "output_type": "stream",
     "text": [
      "+------+----------+---------+-------------+\n",
      "|emp_id|      city| emp_name|        state|\n",
      "+------+----------+---------+-------------+\n",
      "|    20|     Noida|   Robert|Uttar Pradesh|\n",
      "|    26|   Chennai|      Pia|    Tamilnadu|\n",
      "|    21|     Delhi|   Shivam|        Delhi|\n",
      "|     6|      Pune|   Barton|  Maharashtra|\n",
      "|    13|     Noida|    Rahul|Uttar Pradesh|\n",
      "|    14|     Delhi|    Sunny|        Delhi|\n",
      "|    28| Hyderabad|    Akash|Andra Pradesh|\n",
      "|    25|    Mumbai|     Iris|  Maharashtra|\n",
      "|    15|New Mumbai|   Vishal|  Maharashtra|\n",
      "|     1| Bengalore|   Avnish|    Karnataka|\n",
      "|     7| Hyderabad|  Natasha|Andra Pradesh|\n",
      "|    30|     Delhi|     Emma|        Delhi|\n",
      "|     2| Bengalore|   Avnish|    Karnataka|\n",
      "|    11|    Nagpur|    Krish|  Maharashtra|\n",
      "|     8|     Noida|   Sundar|Uttar Pradesh|\n",
      "|    17|   Chennai|  Aravind|    Tamilnadu|\n",
      "|    10|New Mumbai|Sudhanshu|  Maharashtra|\n",
      "|    23|    Nagpur|     Amit|  Maharashtra|\n",
      "|    29|     Noida|    Harry|Uttar Pradesh|\n",
      "|    22|New Mumbai|   Deepak|  Maharashtra|\n",
      "+------+----------+---------+-------------+\n",
      "only showing top 20 rows\n",
      "\n"
     ]
    }
   ],
   "source": [
    "sparkSesison.sql(\"select * from emp\").show()"
   ]
  },
  {
   "cell_type": "code",
   "execution_count": 18,
   "metadata": {},
   "outputs": [
    {
     "name": "stdout",
     "output_type": "stream",
     "text": [
      "+------+---------+--------+-------------+\n",
      "|emp_id|     city|emp_name|        state|\n",
      "+------+---------+--------+-------------+\n",
      "|    19|Hyderabad|Scarlett|Andra Pradesh|\n",
      "+------+---------+--------+-------------+\n",
      "\n"
     ]
    }
   ],
   "source": [
    "sparkSesison.sql(\"select * from emp where emp_name like 'S%t'\").show()"
   ]
  },
  {
   "cell_type": "code",
   "execution_count": 20,
   "metadata": {},
   "outputs": [
    {
     "name": "stdout",
     "output_type": "stream",
     "text": [
      "+------+----------+---------+-------------+\n",
      "|emp_id|      city| emp_name|        state|\n",
      "+------+----------+---------+-------------+\n",
      "|     7| Hyderabad|  Natasha|Andra Pradesh|\n",
      "|     8|     Noida|   Sundar|Uttar Pradesh|\n",
      "|     5|   Chennai|    Berry|    Tamilnadu|\n",
      "|    30|     Delhi|     Emma|        Delhi|\n",
      "|     2| Bengalore|   Avnish|    Karnataka|\n",
      "|    11|    Nagpur|    Krish|  Maharashtra|\n",
      "|    22|New Mumbai|   Deepak|  Maharashtra|\n",
      "|    23|    Nagpur|     Amit|  Maharashtra|\n",
      "|    28| Hyderabad|    Akash|Andra Pradesh|\n",
      "|     6|      Pune|   Barton|  Maharashtra|\n",
      "|    13|     Noida|    Rahul|Uttar Pradesh|\n",
      "|    26|   Chennai|      Pia|    Tamilnadu|\n",
      "|    21|     Delhi|   Shivam|        Delhi|\n",
      "|    31|New Mumbai| Abhishek|  Maharashtra|\n",
      "|    29|     Noida|    Harry|Uttar Pradesh|\n",
      "|     1| Bengalore|   Avnish|    Karnataka|\n",
      "|    17|   Chennai|  Aravind|    Tamilnadu|\n",
      "|    10|New Mumbai|Sudhanshu|  Maharashtra|\n",
      "|    14|     Delhi|    Sunny|        Delhi|\n",
      "|     9|     Delhi| Shashank|        Delhi|\n",
      "+------+----------+---------+-------------+\n",
      "only showing top 20 rows\n",
      "\n"
     ]
    }
   ],
   "source": [
    "df.show()"
   ]
  },
  {
   "cell_type": "code",
   "execution_count": 21,
   "metadata": {},
   "outputs": [],
   "source": [
    "from pyspark.sql.functions import *"
   ]
  },
  {
   "cell_type": "code",
   "execution_count": 22,
   "metadata": {},
   "outputs": [],
   "source": [
    "from pyspark.sql.types import *"
   ]
  },
  {
   "cell_type": "code",
   "execution_count": 74,
   "metadata": {},
   "outputs": [],
   "source": [
    "df  = df.select(col(\"emp_id\").cast(StringType()).alias(\"key\"),to_json(struct(\"emp_id\",\"emp_name\",\"city\",\"state\")).alias(\"value\"))"
   ]
  },
  {
   "cell_type": "code",
   "execution_count": 39,
   "metadata": {},
   "outputs": [
    {
     "name": "stdout",
     "output_type": "stream",
     "text": [
      "root\n",
      " |-- key: string (nullable = false)\n",
      " |-- to_json(struct(emp_id, emp_name, city, state)): string (nullable = true)\n",
      "\n"
     ]
    }
   ],
   "source": [
    "df.printSchema()"
   ]
  },
  {
   "cell_type": "code",
   "execution_count": 40,
   "metadata": {},
   "outputs": [],
   "source": [
    "#kafka server detail\n",
    "KAFKA_BOOTSTRAP_SERVER=\"kafka:9092\"\n",
    "KAFKA_TOPIC = \"employee\""
   ]
  },
  {
   "cell_type": "code",
   "execution_count": 72,
   "metadata": {},
   "outputs": [],
   "source": [
    "df = (sparkSesison\n",
    "    .readStream\n",
    "    .format(\"kafka\")\n",
    "    .option(\"kafka.bootstrap.servers\",KAFKA_BOOTSTRAP_SERVER)\n",
    "    .option(\"subscribe\",KAFKA_TOPIC)\n",
    "    .option(\"startingOffsets\",\"earliest\")\n",
    "    .load()\n",
    "    )"
   ]
  },
  {
   "cell_type": "code",
   "execution_count": 42,
   "metadata": {},
   "outputs": [
    {
     "name": "stdout",
     "output_type": "stream",
     "text": [
      "root\n",
      " |-- key: binary (nullable = true)\n",
      " |-- value: binary (nullable = true)\n",
      " |-- topic: string (nullable = true)\n",
      " |-- partition: integer (nullable = true)\n",
      " |-- offset: long (nullable = true)\n",
      " |-- timestamp: timestamp (nullable = true)\n",
      " |-- timestampType: integer (nullable = true)\n",
      "\n"
     ]
    }
   ],
   "source": [
    "df.printSchema()"
   ]
  },
  {
   "cell_type": "code",
   "execution_count": 73,
   "metadata": {},
   "outputs": [],
   "source": [
    "df = sparkSesison.read.parquet(\"/project/employee_data\")"
   ]
  },
  {
   "cell_type": "code",
   "execution_count": 47,
   "metadata": {},
   "outputs": [
    {
     "name": "stdout",
     "output_type": "stream",
     "text": [
      "+------+--------+----------+-------------+\n",
      "|emp_id|emp_name|      city|        state|\n",
      "+------+--------+----------+-------------+\n",
      "|    31|Abhishek|New Mumbai|  Maharashtra|\n",
      "|     8|  Sundar|     Noida|Uttar Pradesh|\n",
      "|    27|   Ankit|      Pune|  Maharashtra|\n",
      "|    30|    Emma|     Delhi|        Delhi|\n",
      "|     7| Natasha| Hyderabad|Andra Pradesh|\n",
      "|    19|Scarlett| Hyderabad|Andra Pradesh|\n",
      "|     6|  Barton|      Pune|  Maharashtra|\n",
      "|    13|   Rahul|     Noida|Uttar Pradesh|\n",
      "|     5|   Berry|   Chennai|    Tamilnadu|\n",
      "|    16|  Vikash|    Nagpur|  Maharashtra|\n",
      "|    17| Aravind|   Chennai|    Tamilnadu|\n",
      "|    25|    Iris|    Mumbai|  Maharashtra|\n",
      "|    29|   Harry|     Noida|Uttar Pradesh|\n",
      "|    15|  Vishal|New Mumbai|  Maharashtra|\n",
      "|    11|   Krish|    Nagpur|  Maharashtra|\n",
      "|    24| Susmita| Hyderabad|Andra Pradesh|\n",
      "|     4| Stephen|    Mumbai|  Maharashtra|\n",
      "|     2|  Avnish| Bengalore|    Karnataka|\n",
      "|    18|    Adam|      Pune|  Maharashtra|\n",
      "|    23|    Amit|    Nagpur|  Maharashtra|\n",
      "+------+--------+----------+-------------+\n",
      "only showing top 20 rows\n",
      "\n"
     ]
    }
   ],
   "source": [
    "df.show()"
   ]
  },
  {
   "cell_type": "code",
   "execution_count": 48,
   "metadata": {},
   "outputs": [
    {
     "data": {
      "text/plain": [
       "180"
      ]
     },
     "execution_count": 48,
     "metadata": {},
     "output_type": "execute_result"
    }
   ],
   "source": [
    "df.count()"
   ]
  },
  {
   "cell_type": "code",
   "execution_count": 75,
   "metadata": {},
   "outputs": [],
   "source": [
    "df = df.select(\"key\",encode(col(\"value\"),charset=\"UTF-8\").alias(\"value\"))"
   ]
  },
  {
   "cell_type": "code",
   "execution_count": 76,
   "metadata": {},
   "outputs": [
    {
     "name": "stdout",
     "output_type": "stream",
     "text": [
      "+---+--------------------+\n",
      "|key|               value|\n",
      "+---+--------------------+\n",
      "| 31|[7B 22 65 6D 70 5...|\n",
      "|  8|[7B 22 65 6D 70 5...|\n",
      "| 27|[7B 22 65 6D 70 5...|\n",
      "| 30|[7B 22 65 6D 70 5...|\n",
      "|  7|[7B 22 65 6D 70 5...|\n",
      "| 19|[7B 22 65 6D 70 5...|\n",
      "|  6|[7B 22 65 6D 70 5...|\n",
      "| 13|[7B 22 65 6D 70 5...|\n",
      "|  5|[7B 22 65 6D 70 5...|\n",
      "| 16|[7B 22 65 6D 70 5...|\n",
      "| 17|[7B 22 65 6D 70 5...|\n",
      "| 25|[7B 22 65 6D 70 5...|\n",
      "| 29|[7B 22 65 6D 70 5...|\n",
      "| 15|[7B 22 65 6D 70 5...|\n",
      "| 11|[7B 22 65 6D 70 5...|\n",
      "| 24|[7B 22 65 6D 70 5...|\n",
      "|  4|[7B 22 65 6D 70 5...|\n",
      "|  2|[7B 22 65 6D 70 5...|\n",
      "| 18|[7B 22 65 6D 70 5...|\n",
      "| 23|[7B 22 65 6D 70 5...|\n",
      "+---+--------------------+\n",
      "only showing top 20 rows\n",
      "\n"
     ]
    }
   ],
   "source": [
    "df.show()"
   ]
  },
  {
   "cell_type": "code",
   "execution_count": 80,
   "metadata": {},
   "outputs": [],
   "source": [
    "\n",
    "schema = StructType(fields=[\n",
    "\n",
    "StructField(name=\"emp_id\",dataType=IntegerType()),\n",
    "StructField(name=\"emp_name\",dataType=StringType()),\n",
    "StructField(name=\"city\",dataType=StringType()),\n",
    "StructField(name=\"state\",dataType=StringType()),\n",
    "])"
   ]
  },
  {
   "cell_type": "code",
   "execution_count": 84,
   "metadata": {},
   "outputs": [
    {
     "name": "stdout",
     "output_type": "stream",
     "text": [
      "+------+--------+----------+-------------+\n",
      "|emp_id|emp_name|city      |state        |\n",
      "+------+--------+----------+-------------+\n",
      "|31    |Abhishek|New Mumbai|Maharashtra  |\n",
      "|8     |Sundar  |Noida     |Uttar Pradesh|\n",
      "|27    |Ankit   |Pune      |Maharashtra  |\n",
      "|30    |Emma    |Delhi     |Delhi        |\n",
      "|7     |Natasha |Hyderabad |Andra Pradesh|\n",
      "|19    |Scarlett|Hyderabad |Andra Pradesh|\n",
      "|6     |Barton  |Pune      |Maharashtra  |\n",
      "|13    |Rahul   |Noida     |Uttar Pradesh|\n",
      "|5     |Berry   |Chennai   |Tamilnadu    |\n",
      "|16    |Vikash  |Nagpur    |Maharashtra  |\n",
      "|17    |Aravind |Chennai   |Tamilnadu    |\n",
      "|25    |Iris    |Mumbai    |Maharashtra  |\n",
      "|29    |Harry   |Noida     |Uttar Pradesh|\n",
      "|15    |Vishal  |New Mumbai|Maharashtra  |\n",
      "|11    |Krish   |Nagpur    |Maharashtra  |\n",
      "|24    |Susmita |Hyderabad |Andra Pradesh|\n",
      "|4     |Stephen |Mumbai    |Maharashtra  |\n",
      "|2     |Avnish  |Bengalore |Karnataka    |\n",
      "|18    |Adam    |Pune      |Maharashtra  |\n",
      "|23    |Amit    |Nagpur    |Maharashtra  |\n",
      "+------+--------+----------+-------------+\n",
      "only showing top 20 rows\n",
      "\n"
     ]
    }
   ],
   "source": [
    "df.select(from_json(decode(col(\"value\"),charset=\"UTF-8\"),schema=schema).alias(\"value\")).select(\"value.*\").show(truncate=False)"
   ]
  },
  {
   "cell_type": "code",
   "execution_count": null,
   "metadata": {},
   "outputs": [],
   "source": [
    "(df.withColumn(\"value\",\n",
    "        from_json(decode(\"value\",charset=\"UTF-8\"),schema=schema)\n",
    "        .alias(\"value\"))\n",
    "        .select(\"value.*\")\n",
    "    )"
   ]
  }
 ],
 "metadata": {
  "kernelspec": {
   "display_name": "Python 3",
   "language": "python",
   "name": "python3"
  },
  "language_info": {
   "codemirror_mode": {
    "name": "ipython",
    "version": 3
   },
   "file_extension": ".py",
   "mimetype": "text/x-python",
   "name": "python",
   "nbconvert_exporter": "python",
   "pygments_lexer": "ipython3",
   "version": "3.8.10"
  },
  "orig_nbformat": 4,
  "vscode": {
   "interpreter": {
    "hash": "916dbcbb3f70747c44a77c7bcd40155683ae19c65e1c03b4aa3499c5328201f1"
   }
  }
 },
 "nbformat": 4,
 "nbformat_minor": 2
}
