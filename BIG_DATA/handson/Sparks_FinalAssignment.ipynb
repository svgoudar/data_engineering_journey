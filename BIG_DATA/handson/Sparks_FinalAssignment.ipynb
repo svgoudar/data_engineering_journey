{
 "cells": [
  {
   "cell_type": "markdown",
   "metadata": {},
   "source": [
    "<p style=\"text-align:center\">\n",
    "    <a href=\"https://skills.network\" target=\"_blank\">\n",
    "    <img src=\"https://cf-courses-data.s3.us.cloud-object-storage.appdomain.cloud/assets/logos/SN_web_lightmode.png\" width=\"200\" alt=\"Skills Network Logo\">\n",
    "    </a>\n",
    "</p>\n"
   ]
  },
  {
   "cell_type": "markdown",
   "metadata": {},
   "source": [
    "# Practice Project\n",
    "\n",
    "Estimated time needed: **60** minutes\n",
    "\n",
    "This practice project focuses on data transformation and integration using PySpark. You will work with two datasets, perform various transformations such as adding columns, renaming columns, dropping unnecessary columns, joining dataframes, and finally, writing the results into both a Hive warehouse and an HDFS file system.\n"
   ]
  },
  {
   "cell_type": "markdown",
   "metadata": {},
   "source": [
    "### Prerequisites \n",
    "\n",
    "For this lab assignment, you will use wget, Python and Spark (PySpark). Therefore, it's essential to make sure that the below-specified libraries are installed in your lab environment or within Skills Network (SN) Labs.  \n",
    "\n",
    " \n"
   ]
  },
  {
   "cell_type": "code",
   "execution_count": 1,
   "metadata": {},
   "outputs": [
    {
     "name": "stdout",
     "output_type": "stream",
     "text": [
      "Requirement already satisfied: wget in c:\\users\\test\\onedrive\\documents\\github\\data_engineering_journey\\.venv\\lib\\site-packages (3.2)\n",
      "Requirement already satisfied: pyspark in c:\\users\\test\\onedrive\\documents\\github\\data_engineering_journey\\.venv\\lib\\site-packages (3.4.0)\n",
      "Requirement already satisfied: findspark in c:\\users\\test\\onedrive\\documents\\github\\data_engineering_journey\\.venv\\lib\\site-packages (2.0.1)\n",
      "Requirement already satisfied: py4j==0.10.9.7 in c:\\users\\test\\onedrive\\documents\\github\\data_engineering_journey\\.venv\\lib\\site-packages (from pyspark) (0.10.9.7)\n"
     ]
    },
    {
     "name": "stderr",
     "output_type": "stream",
     "text": [
      "WARNING: Ignoring invalid distribution -umpy (c:\\users\\test\\onedrive\\documents\\github\\data_engineering_journey\\.venv\\lib\\site-packages)\n",
      "WARNING: Ignoring invalid distribution -umpy (c:\\users\\test\\onedrive\\documents\\github\\data_engineering_journey\\.venv\\lib\\site-packages)\n"
     ]
    }
   ],
   "source": [
    "# Installing required packages\n",
    "\n",
    "!pip install wget pyspark  findspark"
   ]
  },
  {
   "cell_type": "markdown",
   "metadata": {},
   "source": [
    "#### Prework - Initiate the Spark Session\n"
   ]
  },
  {
   "cell_type": "code",
   "execution_count": 2,
   "metadata": {},
   "outputs": [],
   "source": [
    "import findspark\n",
    "\n",
    "findspark.init()"
   ]
  },
  {
   "cell_type": "code",
   "execution_count": 3,
   "metadata": {},
   "outputs": [],
   "source": [
    "# PySpark is the Spark API for Python. In this lab, we use PySpark to initialize the SparkContext.   \n",
    "\n",
    "from pyspark import SparkContext, SparkConf\n",
    "\n",
    "from pyspark.sql import SparkSession"
   ]
  },
  {
   "cell_type": "code",
   "execution_count": 4,
   "metadata": {},
   "outputs": [],
   "source": [
    "# Creating a SparkContext object\n",
    "\n",
    "sc = SparkContext.getOrCreate()\n",
    "\n",
    "# Creating a Spark Session\n",
    "\n",
    "spark = SparkSession \\\n",
    "    .builder \\\n",
    "    .appName(\"Python Spark DataFrames basic example\") \\\n",
    "    .config(\"spark.some.config.option\", \"some-value\") \\\n",
    "    .getOrCreate()"
   ]
  },
  {
   "cell_type": "markdown",
   "metadata": {},
   "source": [
    "### Task 1: Load datasets into PySpark DataFrames\n",
    "\n",
    "Download the datasets from the folloing links using `wget` and load it in a Spark Dataframe.\n",
    "\n",
    "1. https://cf-courses-data.s3.us.cloud-object-storage.appdomain.cloud/IBM-BD0225EN-SkillsNetwork/labs/data/dataset1.csv  \n",
    "2. https://cf-courses-data.s3.us.cloud-object-storage.appdomain.cloud/IBM-BD0225EN-SkillsNetwork/labs/data/dataset2.csv  \n",
    "\n",
    "*Hint: Import wget*\n"
   ]
  },
  {
   "cell_type": "code",
   "execution_count": 5,
   "metadata": {},
   "outputs": [],
   "source": [
    "#download dataset using wget\n"
   ]
  },
  {
   "cell_type": "markdown",
   "metadata": {},
   "source": [
    "\n",
    "<details>\n",
    "    <summary>Click here for Solution</summary>\n",
    "\n",
    "```python\n",
    "# download the dataset using wget\n",
    "import wget\n",
    "\n",
    "link_to_data1 = 'https://cf-courses-data.s3.us.cloud-object-storage.appdomain.cloud/IBM-BD0225EN-SkillsNetwork/labs/data/dataset1.csv'\n",
    "wget.download(link_to_data1)\n",
    "\n",
    "link_to_data2 = 'https://cf-courses-data.s3.us.cloud-object-storage.appdomain.cloud/IBM-BD0225EN-SkillsNetwork/labs/data/dataset2.csv'\n",
    "wget.download(link_to_data2)\n",
    "```\n",
    "\n",
    "</details>\n"
   ]
  },
  {
   "cell_type": "code",
   "execution_count": 32,
   "metadata": {},
   "outputs": [],
   "source": [
    "df1 =  spark.read.csv(\"dataset1.csv\",header=True, inferSchema=True)\n",
    "df2 =  spark.read.csv(\"dataset2.csv\", header=True, inferSchema=True)"
   ]
  },
  {
   "cell_type": "markdown",
   "metadata": {},
   "source": [
    "\n",
    "<details>\n",
    "    <summary>Click here for Solution</summary>\n",
    "\n",
    "```python\n",
    "\n",
    "#load the data into a pyspark dataframe\n",
    "    \n",
    "df1 = spark.read.csv(\"dataset1.csv\", header=True, inferSchema=True)\n",
    "df2 = spark.read.csv(\"dataset2.csv\", header=True, inferSchema=True)\n",
    "```\n",
    "\n",
    "</details>\n",
    "\n",
    "\n"
   ]
  },
  {
   "cell_type": "markdown",
   "metadata": {},
   "source": [
    "### Task 2: Display the schema of both dataframes\n",
    "\n",
    "Display the schema of `df1` and `df2` to understand the structure of the datasets.\n"
   ]
  },
  {
   "cell_type": "code",
   "execution_count": 7,
   "metadata": {},
   "outputs": [
    {
     "name": "stdout",
     "output_type": "stream",
     "text": [
      "root\n",
      " |-- customer_id: integer (nullable = true)\n",
      " |-- date_column: string (nullable = true)\n",
      " |-- amount: integer (nullable = true)\n",
      " |-- description: string (nullable = true)\n",
      " |-- location: string (nullable = true)\n",
      "\n",
      "root\n",
      " |-- customer_id: integer (nullable = true)\n",
      " |-- transaction_date: string (nullable = true)\n",
      " |-- value: integer (nullable = true)\n",
      " |-- notes: string (nullable = true)\n",
      "\n"
     ]
    }
   ],
   "source": [
    "#print the schema of df1 and df2\n",
    "df1.printSchema()\n",
    "df2.printSchema()\n"
   ]
  },
  {
   "cell_type": "markdown",
   "metadata": {},
   "source": [
    "\n",
    "<details>\n",
    "    <summary>Click here for Solution</summary>\n",
    "\n",
    "```python\n",
    "\n",
    "#print the schema of df1 and df2\n",
    "    \n",
    "df1.printSchema()\n",
    "df2.printSchema()\n",
    "```\n",
    "\n",
    "</details>\n",
    "\n",
    "\n"
   ]
  },
  {
   "cell_type": "markdown",
   "metadata": {},
   "source": [
    "#### Task 3: Add a new column to each dataframe\n",
    "\n",
    "Add a new column named **year** to `df1` and **quarter** to `df2` representing the year and quarter of the data.\n",
    "\n",
    "*Hint: use withColumn. Convert the date columns which are present as string to date before extracting the year and quarter information*\n",
    "\n",
    "\n"
   ]
  },
  {
   "cell_type": "code",
   "execution_count": 45,
   "metadata": {},
   "outputs": [
    {
     "name": "stdout",
     "output_type": "stream",
     "text": [
      "+-----------+-----------+------+-----------+--------+----+\n",
      "|customer_id|date_column|amount|description|location|year|\n",
      "+-----------+-----------+------+-----------+--------+----+\n",
      "|          1|   1/1/2022|  5000| Purchase A| Store A|2022|\n",
      "|          2|  15/2/2022|  1200| Purchase B| Store B|2022|\n",
      "|          3|  20/3/2022|   800| Purchase C| Store C|2022|\n",
      "|          4|  10/4/2022|  3000| Purchase D| Store D|2022|\n",
      "|          5|   5/5/2022|  6000| Purchase E| Store E|2022|\n",
      "|          6|  10/6/2022|  4500| Purchase F| Store F|2022|\n",
      "|          7|  15/7/2022|   200| Purchase G| Store G|2022|\n",
      "|          8|  20/8/2022|  3500| Purchase H| Store H|2022|\n",
      "|          9|  25/9/2022|   700| Purchase I| Store I|2022|\n",
      "|         10| 30/10/2022|  1800| Purchase J| Store J|2022|\n",
      "|         11|  5/11/2022|  2200| Purchase K| Store K|2022|\n",
      "|         12| 10/12/2022|   900| Purchase L| Store L|2022|\n",
      "|         13|  15/1/2023|  4800| Purchase M| Store M|2023|\n",
      "|         14|  20/2/2023|   300| Purchase N| Store N|2023|\n",
      "|         15|  25/3/2023|  4200| Purchase O| Store O|2023|\n",
      "|         16|  30/4/2023|  2600| Purchase P| Store P|2023|\n",
      "|         17|   5/5/2023|   700| Purchase Q| Store Q|2023|\n",
      "|         18|  10/6/2023|  1500| Purchase R| Store R|2023|\n",
      "|         19|  15/7/2023|  3200| Purchase S| Store S|2023|\n",
      "|         20|  20/8/2023|  1000| Purchase T| Store T|2023|\n",
      "+-----------+-----------+------+-----------+--------+----+\n",
      "only showing top 20 rows\n",
      "\n"
     ]
    },
    {
     "ename": "AnalysisException",
     "evalue": "[UNRESOLVED_COLUMN.WITH_SUGGESTION] A column or function parameter with name `transaction_date` cannot be resolved. Did you mean one of the following? [`avg(transaction_value)`, `quarter`].;\n'Project [quarter(to_date('transaction_date, Some(dd/MM/yyyy), Some(Asia/Calcutta), false)) AS quarter#750, avg(transaction_value)#511]\n+- SubqueryAlias average_value_per_quarter\n   +- Aggregate [quarter#52], [quarter#52, avg(transaction_value#117) AS avg(transaction_value)#511]\n      +- Filter (transaction_amount#84 > 1000)\n         +- Project [customer_id#17, date_column#18, transaction_amount#84, description#20, location#21, transaction_date#45, transaction_value#117, notes#47, quarter#52]\n            +- Join Inner, (customer_id#17 = customer_id#44)\n               :- Project [customer_id#17, date_column#18, amount#19 AS transaction_amount#84, description#20, location#21]\n               :  +- Relation [customer_id#17,date_column#18,amount#19,description#20,location#21] csv\n               +- Project [customer_id#44, transaction_date#45, value#46 AS transaction_value#117, notes#47, quarter#52]\n                  +- Project [customer_id#44, transaction_date#45, value#46, notes#47, quarter(to_date(transaction_date#45, Some(dd/MM/yyyy), Some(Asia/Calcutta), false)) AS quarter#52]\n                     +- Relation [customer_id#44,transaction_date#45,value#46,notes#47] csv\n",
     "output_type": "error",
     "traceback": [
      "\u001b[1;31m---------------------------------------------------------------------------\u001b[0m",
      "\u001b[1;31mAnalysisException\u001b[0m                         Traceback (most recent call last)",
      "Cell \u001b[1;32mIn[45], line 8\u001b[0m\n\u001b[0;32m      6\u001b[0m df1\u001b[38;5;241m.\u001b[39mshow()\n\u001b[0;32m      7\u001b[0m \u001b[38;5;66;03m#Add new column quarter to df2    \u001b[39;00m\n\u001b[1;32m----> 8\u001b[0m df2 \u001b[38;5;241m=\u001b[39m \u001b[43mdf2\u001b[49m\u001b[38;5;241;43m.\u001b[39;49m\u001b[43mwithColumn\u001b[49m\u001b[43m(\u001b[49m\u001b[38;5;124;43m'\u001b[39;49m\u001b[38;5;124;43mquarter\u001b[39;49m\u001b[38;5;124;43m'\u001b[39;49m\u001b[43m,\u001b[49m\u001b[43m \u001b[49m\u001b[43mquarter\u001b[49m\u001b[43m(\u001b[49m\u001b[43mto_date\u001b[49m\u001b[43m(\u001b[49m\u001b[38;5;124;43m'\u001b[39;49m\u001b[38;5;124;43mtransaction_date\u001b[39;49m\u001b[38;5;124;43m'\u001b[39;49m\u001b[43m,\u001b[49m\u001b[38;5;124;43m'\u001b[39;49m\u001b[38;5;124;43mdd/MM/yyyy\u001b[39;49m\u001b[38;5;124;43m'\u001b[39;49m\u001b[43m)\u001b[49m\u001b[43m)\u001b[49m\u001b[43m)\u001b[49m\n\u001b[0;32m      9\u001b[0m df2\u001b[38;5;241m.\u001b[39mshow()\n",
      "File \u001b[1;32mC:\\SPARK\\spark-3.5.1-bin-hadoop3\\python\\pyspark\\sql\\dataframe.py:5174\u001b[0m, in \u001b[0;36mDataFrame.withColumn\u001b[1;34m(self, colName, col)\u001b[0m\n\u001b[0;32m   5169\u001b[0m \u001b[38;5;28;01mif\u001b[39;00m \u001b[38;5;129;01mnot\u001b[39;00m \u001b[38;5;28misinstance\u001b[39m(col, Column):\n\u001b[0;32m   5170\u001b[0m     \u001b[38;5;28;01mraise\u001b[39;00m PySparkTypeError(\n\u001b[0;32m   5171\u001b[0m         error_class\u001b[38;5;241m=\u001b[39m\u001b[38;5;124m\"\u001b[39m\u001b[38;5;124mNOT_COLUMN\u001b[39m\u001b[38;5;124m\"\u001b[39m,\n\u001b[0;32m   5172\u001b[0m         message_parameters\u001b[38;5;241m=\u001b[39m{\u001b[38;5;124m\"\u001b[39m\u001b[38;5;124marg_name\u001b[39m\u001b[38;5;124m\"\u001b[39m: \u001b[38;5;124m\"\u001b[39m\u001b[38;5;124mcol\u001b[39m\u001b[38;5;124m\"\u001b[39m, \u001b[38;5;124m\"\u001b[39m\u001b[38;5;124marg_type\u001b[39m\u001b[38;5;124m\"\u001b[39m: \u001b[38;5;28mtype\u001b[39m(col)\u001b[38;5;241m.\u001b[39m\u001b[38;5;18m__name__\u001b[39m},\n\u001b[0;32m   5173\u001b[0m     )\n\u001b[1;32m-> 5174\u001b[0m \u001b[38;5;28;01mreturn\u001b[39;00m DataFrame(\u001b[38;5;28;43mself\u001b[39;49m\u001b[38;5;241;43m.\u001b[39;49m\u001b[43m_jdf\u001b[49m\u001b[38;5;241;43m.\u001b[39;49m\u001b[43mwithColumn\u001b[49m\u001b[43m(\u001b[49m\u001b[43mcolName\u001b[49m\u001b[43m,\u001b[49m\u001b[43m \u001b[49m\u001b[43mcol\u001b[49m\u001b[38;5;241;43m.\u001b[39;49m\u001b[43m_jc\u001b[49m\u001b[43m)\u001b[49m, \u001b[38;5;28mself\u001b[39m\u001b[38;5;241m.\u001b[39msparkSession)\n",
      "File \u001b[1;32mC:\\SPARK\\spark-3.5.1-bin-hadoop3\\python\\lib\\py4j-0.10.9.7-src.zip\\py4j\\java_gateway.py:1322\u001b[0m, in \u001b[0;36mJavaMember.__call__\u001b[1;34m(self, *args)\u001b[0m\n\u001b[0;32m   1316\u001b[0m command \u001b[38;5;241m=\u001b[39m proto\u001b[38;5;241m.\u001b[39mCALL_COMMAND_NAME \u001b[38;5;241m+\u001b[39m\\\n\u001b[0;32m   1317\u001b[0m     \u001b[38;5;28mself\u001b[39m\u001b[38;5;241m.\u001b[39mcommand_header \u001b[38;5;241m+\u001b[39m\\\n\u001b[0;32m   1318\u001b[0m     args_command \u001b[38;5;241m+\u001b[39m\\\n\u001b[0;32m   1319\u001b[0m     proto\u001b[38;5;241m.\u001b[39mEND_COMMAND_PART\n\u001b[0;32m   1321\u001b[0m answer \u001b[38;5;241m=\u001b[39m \u001b[38;5;28mself\u001b[39m\u001b[38;5;241m.\u001b[39mgateway_client\u001b[38;5;241m.\u001b[39msend_command(command)\n\u001b[1;32m-> 1322\u001b[0m return_value \u001b[38;5;241m=\u001b[39m \u001b[43mget_return_value\u001b[49m\u001b[43m(\u001b[49m\n\u001b[0;32m   1323\u001b[0m \u001b[43m    \u001b[49m\u001b[43manswer\u001b[49m\u001b[43m,\u001b[49m\u001b[43m \u001b[49m\u001b[38;5;28;43mself\u001b[39;49m\u001b[38;5;241;43m.\u001b[39;49m\u001b[43mgateway_client\u001b[49m\u001b[43m,\u001b[49m\u001b[43m \u001b[49m\u001b[38;5;28;43mself\u001b[39;49m\u001b[38;5;241;43m.\u001b[39;49m\u001b[43mtarget_id\u001b[49m\u001b[43m,\u001b[49m\u001b[43m \u001b[49m\u001b[38;5;28;43mself\u001b[39;49m\u001b[38;5;241;43m.\u001b[39;49m\u001b[43mname\u001b[49m\u001b[43m)\u001b[49m\n\u001b[0;32m   1325\u001b[0m \u001b[38;5;28;01mfor\u001b[39;00m temp_arg \u001b[38;5;129;01min\u001b[39;00m temp_args:\n\u001b[0;32m   1326\u001b[0m     \u001b[38;5;28;01mif\u001b[39;00m \u001b[38;5;28mhasattr\u001b[39m(temp_arg, \u001b[38;5;124m\"\u001b[39m\u001b[38;5;124m_detach\u001b[39m\u001b[38;5;124m\"\u001b[39m):\n",
      "File \u001b[1;32mC:\\SPARK\\spark-3.5.1-bin-hadoop3\\python\\pyspark\\errors\\exceptions\\captured.py:185\u001b[0m, in \u001b[0;36mcapture_sql_exception.<locals>.deco\u001b[1;34m(*a, **kw)\u001b[0m\n\u001b[0;32m    181\u001b[0m converted \u001b[38;5;241m=\u001b[39m convert_exception(e\u001b[38;5;241m.\u001b[39mjava_exception)\n\u001b[0;32m    182\u001b[0m \u001b[38;5;28;01mif\u001b[39;00m \u001b[38;5;129;01mnot\u001b[39;00m \u001b[38;5;28misinstance\u001b[39m(converted, UnknownException):\n\u001b[0;32m    183\u001b[0m     \u001b[38;5;66;03m# Hide where the exception came from that shows a non-Pythonic\u001b[39;00m\n\u001b[0;32m    184\u001b[0m     \u001b[38;5;66;03m# JVM exception message.\u001b[39;00m\n\u001b[1;32m--> 185\u001b[0m     \u001b[38;5;28;01mraise\u001b[39;00m converted \u001b[38;5;28;01mfrom\u001b[39;00m \u001b[38;5;28;01mNone\u001b[39;00m\n\u001b[0;32m    186\u001b[0m \u001b[38;5;28;01melse\u001b[39;00m:\n\u001b[0;32m    187\u001b[0m     \u001b[38;5;28;01mraise\u001b[39;00m\n",
      "\u001b[1;31mAnalysisException\u001b[0m: [UNRESOLVED_COLUMN.WITH_SUGGESTION] A column or function parameter with name `transaction_date` cannot be resolved. Did you mean one of the following? [`avg(transaction_value)`, `quarter`].;\n'Project [quarter(to_date('transaction_date, Some(dd/MM/yyyy), Some(Asia/Calcutta), false)) AS quarter#750, avg(transaction_value)#511]\n+- SubqueryAlias average_value_per_quarter\n   +- Aggregate [quarter#52], [quarter#52, avg(transaction_value#117) AS avg(transaction_value)#511]\n      +- Filter (transaction_amount#84 > 1000)\n         +- Project [customer_id#17, date_column#18, transaction_amount#84, description#20, location#21, transaction_date#45, transaction_value#117, notes#47, quarter#52]\n            +- Join Inner, (customer_id#17 = customer_id#44)\n               :- Project [customer_id#17, date_column#18, amount#19 AS transaction_amount#84, description#20, location#21]\n               :  +- Relation [customer_id#17,date_column#18,amount#19,description#20,location#21] csv\n               +- Project [customer_id#44, transaction_date#45, value#46 AS transaction_value#117, notes#47, quarter#52]\n                  +- Project [customer_id#44, transaction_date#45, value#46, notes#47, quarter(to_date(transaction_date#45, Some(dd/MM/yyyy), Some(Asia/Calcutta), false)) AS quarter#52]\n                     +- Relation [customer_id#44,transaction_date#45,value#46,notes#47] csv\n"
     ]
    }
   ],
   "source": [
    "from pyspark.sql.functions import year, quarter, to_date\n",
    "\n",
    "spark.conf.set(\"spark.sql.legacy.timeParserPolicy\",\"LEGACY\")\n",
    "#Add new column year to df1\n",
    "df1 = df1.withColumn(\"year\",year(to_date('date_column','dd/MM/yyyy')))\n",
    "df1.show()\n",
    "#Add new column quarter to df2    \n",
    "df2 = df2.withColumn('quarter', quarter(to_date('transaction_date','dd/MM/yyyy')))\n",
    "df2.show()\n",
    "\n"
   ]
  },
  {
   "cell_type": "markdown",
   "metadata": {},
   "source": [
    "\n",
    "<details>\n",
    "    <summary>Click here for Solution</summary>\n",
    "\n",
    "```python\n",
    "from pyspark.sql.functions import year, quarter\n",
    "\n",
    "#Add new column year to df1\n",
    "df1 = df1.withColumn('year', year(to_date('date_column','dd/MM/yyyy')))\n",
    "    \n",
    "#Add new column quarter to df2    \n",
    "df2 = df2.withColumn('quarter', quarter(to_date('transaction_date','dd/MM/yyyy')))```\n",
    "\n",
    "</details>\n",
    "\n",
    "\n",
    "\n"
   ]
  },
  {
   "cell_type": "markdown",
   "metadata": {},
   "source": [
    "#### Task 4: Rename columns in both dataframes\n",
    "\n",
    "Rename the column **amount** to **transaction_amount** in `df1` and **value** to **transaction_value** in `df2`.\n",
    "\n",
    "*Hint: Use withColumnRenamed*\n"
   ]
  },
  {
   "cell_type": "code",
   "execution_count": 46,
   "metadata": {},
   "outputs": [
    {
     "name": "stdout",
     "output_type": "stream",
     "text": [
      "+-----------+-----------+------------------+-----------+--------+----+\n",
      "|customer_id|date_column|transaction_amount|description|location|year|\n",
      "+-----------+-----------+------------------+-----------+--------+----+\n",
      "|          1|   1/1/2022|              5000| Purchase A| Store A|2022|\n",
      "|          2|  15/2/2022|              1200| Purchase B| Store B|2022|\n",
      "|          3|  20/3/2022|               800| Purchase C| Store C|2022|\n",
      "|          4|  10/4/2022|              3000| Purchase D| Store D|2022|\n",
      "|          5|   5/5/2022|              6000| Purchase E| Store E|2022|\n",
      "|          6|  10/6/2022|              4500| Purchase F| Store F|2022|\n",
      "|          7|  15/7/2022|               200| Purchase G| Store G|2022|\n",
      "|          8|  20/8/2022|              3500| Purchase H| Store H|2022|\n",
      "|          9|  25/9/2022|               700| Purchase I| Store I|2022|\n",
      "|         10| 30/10/2022|              1800| Purchase J| Store J|2022|\n",
      "|         11|  5/11/2022|              2200| Purchase K| Store K|2022|\n",
      "|         12| 10/12/2022|               900| Purchase L| Store L|2022|\n",
      "|         13|  15/1/2023|              4800| Purchase M| Store M|2023|\n",
      "|         14|  20/2/2023|               300| Purchase N| Store N|2023|\n",
      "|         15|  25/3/2023|              4200| Purchase O| Store O|2023|\n",
      "|         16|  30/4/2023|              2600| Purchase P| Store P|2023|\n",
      "|         17|   5/5/2023|               700| Purchase Q| Store Q|2023|\n",
      "|         18|  10/6/2023|              1500| Purchase R| Store R|2023|\n",
      "|         19|  15/7/2023|              3200| Purchase S| Store S|2023|\n",
      "|         20|  20/8/2023|              1000| Purchase T| Store T|2023|\n",
      "+-----------+-----------+------------------+-----------+--------+----+\n",
      "only showing top 20 rows\n",
      "\n",
      "+-------+----------------------+\n",
      "|quarter|avg(transaction_value)|\n",
      "+-------+----------------------+\n",
      "|      1|    1416.6666666666667|\n",
      "|      3|    2766.6666666666665|\n",
      "|      4|                1000.0|\n",
      "|      2|    1333.3333333333333|\n",
      "+-------+----------------------+\n",
      "\n"
     ]
    }
   ],
   "source": [
    "#Rename df1 column amount to transaction_amount\n",
    "df1 = df1.withColumnRenamed(\"amount\",\"transaction_amount\")\n",
    "df1.show()\n",
    "#Rename df2 column value to transaction_value\n",
    "df2 = df2.withColumnRenamed(\"value\",\"transaction_value\")\n",
    "df2.show()"
   ]
  },
  {
   "cell_type": "markdown",
   "metadata": {},
   "source": [
    "\n",
    "\n",
    "<details>\n",
    "    <summary>Click here for Solution</summary>\n",
    "\n",
    "```python\n",
    "\n",
    "#Rename df1 column amount to transaction_amount\n",
    "df1 = df1.withColumnRenamed('amount', 'transaction_amount')\n",
    "    \n",
    "#Rename df2 column value to transaction_value\n",
    "df2 = df2.withColumnRenamed('value', 'transaction_value')\n",
    "```\n",
    "\n",
    "</details>\n",
    "\n",
    "\n",
    "\n"
   ]
  },
  {
   "cell_type": "markdown",
   "metadata": {},
   "source": [
    "#### Task 5: Drop unnecessary columns\n",
    "\n",
    "Drop the columns **description** and **location** from `df1` and **notes** from `df2`.\n",
    "\n",
    "\n"
   ]
  },
  {
   "cell_type": "code",
   "execution_count": 10,
   "metadata": {},
   "outputs": [
    {
     "data": {
      "text/plain": [
       "DataFrame[customer_id: int, transaction_date: string, transaction_value: int, quarter: int]"
      ]
     },
     "execution_count": 10,
     "metadata": {},
     "output_type": "execute_result"
    }
   ],
   "source": [
    "#Drop columns description and location from df1\n",
    "df1.drop(\"description\",\"location\")\n",
    "\n",
    "#Drop column notes from df2\n",
    "\n",
    "df2.drop(\"notes\")"
   ]
  },
  {
   "cell_type": "markdown",
   "metadata": {},
   "source": [
    "\n",
    "\n",
    "\n",
    "<details>\n",
    "    <summary>Click here for Solution</summary>\n",
    "\n",
    "```python\n",
    "\n",
    "#Drop columns description and location from df1\n",
    "df1 = df1.drop('description', 'location')\n",
    "    \n",
    "#Drop column notes from df2\n",
    "df2 = df2.drop('notes')\n",
    "```\n",
    "\n",
    "</details>\n",
    "\n",
    "\n",
    "\n"
   ]
  },
  {
   "cell_type": "markdown",
   "metadata": {},
   "source": [
    "#### Task 6: Join dataframes based on a common column\n",
    "\n",
    "Join `df1` and `df2` based on the common column **customer_id** and create a new dataframe named `joined_df`.\n",
    "\n",
    "\n"
   ]
  },
  {
   "cell_type": "code",
   "execution_count": 11,
   "metadata": {},
   "outputs": [
    {
     "name": "stdout",
     "output_type": "stream",
     "text": [
      "+-----------+-----------+------------------+-----------+--------+----------------+-----------------+-------+-------+\n",
      "|customer_id|date_column|transaction_amount|description|location|transaction_date|transaction_value|  notes|quarter|\n",
      "+-----------+-----------+------------------+-----------+--------+----------------+-----------------+-------+-------+\n",
      "|          1|   1/1/2022|              5000| Purchase A| Store A|        1/1/2022|             1500| Note 1|      1|\n",
      "|          2|  15/2/2022|              1200| Purchase B| Store B|       15/2/2022|             2000| Note 2|      1|\n",
      "|          3|  20/3/2022|               800| Purchase C| Store C|       20/3/2022|             1000| Note 3|      1|\n",
      "|          4|  10/4/2022|              3000| Purchase D| Store D|       10/4/2022|             2500| Note 4|      2|\n",
      "|          5|   5/5/2022|              6000| Purchase E| Store E|        5/5/2022|             1800| Note 5|      2|\n",
      "|          6|  10/6/2022|              4500| Purchase F| Store F|       10/6/2022|             1200| Note 6|      2|\n",
      "|          7|  15/7/2022|               200| Purchase G| Store G|       15/7/2022|              700| Note 7|      3|\n",
      "|          8|  20/8/2022|              3500| Purchase H| Store H|       20/8/2022|             3000| Note 8|      3|\n",
      "|          9|  25/9/2022|               700| Purchase I| Store I|       25/9/2022|              600| Note 9|      3|\n",
      "|         10| 30/10/2022|              1800| Purchase J| Store J|      30/10/2022|             1200|Note 10|      4|\n",
      "|         11|  5/11/2022|              2200| Purchase K| Store K|       5/11/2022|             1500|Note 11|      4|\n",
      "|         12| 10/12/2022|               900| Purchase L| Store L|      10/12/2022|              800|Note 12|      4|\n",
      "|         13|  15/1/2023|              4800| Purchase M| Store M|       15/1/2023|             2000|Note 13|      1|\n",
      "|         14|  20/2/2023|               300| Purchase N| Store N|       20/2/2023|              700|Note 14|      1|\n",
      "|         15|  25/3/2023|              4200| Purchase O| Store O|       25/3/2023|             1800|Note 15|      1|\n",
      "|         16|  30/4/2023|              2600| Purchase P| Store P|       30/4/2023|             1000|Note 16|      2|\n",
      "|         17|   5/5/2023|               700| Purchase Q| Store Q|        5/5/2023|              400|Note 17|      2|\n",
      "|         18|  10/6/2023|              1500| Purchase R| Store R|       10/6/2023|             1500|Note 18|      2|\n",
      "|         19|  15/7/2023|              3200| Purchase S| Store S|       15/7/2023|             3000|Note 19|      3|\n",
      "|         20|  20/8/2023|              1000| Purchase T| Store T|       20/8/2023|              600|Note 20|      3|\n",
      "+-----------+-----------+------------------+-----------+--------+----------------+-----------------+-------+-------+\n",
      "only showing top 20 rows\n",
      "\n"
     ]
    }
   ],
   "source": [
    "#join df1 and df2 based on common column customer_id\n",
    "\n",
    "joined_df = df1.join(df2, on=\"customer_id\",how=\"inner\")\n",
    "joined_df.show()"
   ]
  },
  {
   "cell_type": "markdown",
   "metadata": {},
   "source": [
    "<details>\n",
    "    <summary>Click here for Solution</summary>\n",
    "\n",
    "```python\n",
    "\n",
    "#join df1 and df2 based on common column customer_id\n",
    "joined_df = df1.join(df2, 'customer_id', 'inner')\n",
    "    \n",
    "```\n",
    "\n",
    "</details>\n"
   ]
  },
  {
   "cell_type": "markdown",
   "metadata": {},
   "source": [
    "#### Task 7: Filter data based on a condition\n",
    "\n",
    "Filter `joined_df` to include only transactions where \"transaction_amount\" is greater than 1000 and create a new dataframe named `filtered_df`.\n",
    "\n",
    "\n",
    "\n"
   ]
  },
  {
   "cell_type": "code",
   "execution_count": 12,
   "metadata": {},
   "outputs": [
    {
     "name": "stdout",
     "output_type": "stream",
     "text": [
      "+-----------+-----------+------------------+-----------+--------+----------------+-----------------+-------+-------+\n",
      "|customer_id|date_column|transaction_amount|description|location|transaction_date|transaction_value|  notes|quarter|\n",
      "+-----------+-----------+------------------+-----------+--------+----------------+-----------------+-------+-------+\n",
      "|          1|   1/1/2022|              5000| Purchase A| Store A|        1/1/2022|             1500| Note 1|      1|\n",
      "|          2|  15/2/2022|              1200| Purchase B| Store B|       15/2/2022|             2000| Note 2|      1|\n",
      "|          4|  10/4/2022|              3000| Purchase D| Store D|       10/4/2022|             2500| Note 4|      2|\n",
      "|          5|   5/5/2022|              6000| Purchase E| Store E|        5/5/2022|             1800| Note 5|      2|\n",
      "|          6|  10/6/2022|              4500| Purchase F| Store F|       10/6/2022|             1200| Note 6|      2|\n",
      "|          8|  20/8/2022|              3500| Purchase H| Store H|       20/8/2022|             3000| Note 8|      3|\n",
      "|         10| 30/10/2022|              1800| Purchase J| Store J|      30/10/2022|             1200|Note 10|      4|\n",
      "|         11|  5/11/2022|              2200| Purchase K| Store K|       5/11/2022|             1500|Note 11|      4|\n",
      "|         13|  15/1/2023|              4800| Purchase M| Store M|       15/1/2023|             2000|Note 13|      1|\n",
      "|         15|  25/3/2023|              4200| Purchase O| Store O|       25/3/2023|             1800|Note 15|      1|\n",
      "|         16|  30/4/2023|              2600| Purchase P| Store P|       30/4/2023|             1000|Note 16|      2|\n",
      "|         18|  10/6/2023|              1500| Purchase R| Store R|       10/6/2023|             1500|Note 18|      2|\n",
      "|         19|  15/7/2023|              3200| Purchase S| Store S|       15/7/2023|             3000|Note 19|      3|\n",
      "|         21|  25/9/2023|              5500| Purchase U| Store U|       25/9/2023|             2500|Note 21|      3|\n",
      "|         22| 30/10/2023|              1200| Purchase V| Store V|      30/10/2023|              700|Note 22|      4|\n",
      "|         24| 10/12/2023|              2400| Purchase X| Store X|      10/12/2023|             1200|Note 24|      4|\n",
      "|         25|  15/1/2024|              1800| Purchase Y| Store Y|       15/1/2024|              800|Note 25|      1|\n",
      "|         27|  25/3/2024|              4200|Purchase AA|Store AA|       25/3/2024|             1800|Note 27|      1|\n",
      "|         28|  30/4/2024|              2600|Purchase BB|Store BB|       30/4/2024|             1000|Note 28|      2|\n",
      "|         30|  10/6/2024|              1500|Purchase DD|Store DD|       10/6/2024|             1500|Note 30|      2|\n",
      "+-----------+-----------+------------------+-----------+--------+----------------+-----------------+-------+-------+\n",
      "only showing top 20 rows\n",
      "\n"
     ]
    }
   ],
   "source": [
    "# filter the dataframe for transaction amount > 1000\n",
    "filtered_df = joined_df.filter(\"transaction_amount > 1000\")\n",
    "filtered_df.show()"
   ]
  },
  {
   "cell_type": "markdown",
   "metadata": {},
   "source": [
    "<details>\n",
    "    <summary>Click here for Solution</summary>\n",
    "\n",
    "```python\n",
    "\n",
    "# filter the dataframe for transaction amount > 1000\n",
    "filtered_df = joined_df.filter(\"transaction_amount > 1000\")    \n",
    "```\n",
    "\n",
    "</details>\n"
   ]
  },
  {
   "cell_type": "markdown",
   "metadata": {},
   "source": [
    "#### Task 8: Aggregate data by customer\n",
    "\n",
    "Calculate the total transaction amount for each customer in `filtered_df` and display the result.\n",
    "\n",
    "*Hint: Use sum from pyspark.sql.functions*\n"
   ]
  },
  {
   "cell_type": "code",
   "execution_count": 13,
   "metadata": {},
   "outputs": [
    {
     "name": "stdout",
     "output_type": "stream",
     "text": [
      "+-----------+-----------------------+\n",
      "|customer_id|sum(transaction_amount)|\n",
      "+-----------+-----------------------+\n",
      "|         31|                   3200|\n",
      "|         85|                   1800|\n",
      "|         78|                   1500|\n",
      "|         34|                   1200|\n",
      "|         81|                   5500|\n",
      "|         28|                   2600|\n",
      "|         76|                   2600|\n",
      "|         27|                   4200|\n",
      "|         91|                   3200|\n",
      "|         22|                   1200|\n",
      "|         93|                   5500|\n",
      "|          1|                   5000|\n",
      "|         52|                   2600|\n",
      "|         13|                   4800|\n",
      "|          6|                   4500|\n",
      "|         16|                   2600|\n",
      "|         40|                   2600|\n",
      "|         94|                   1200|\n",
      "|         57|                   5500|\n",
      "|         54|                   1500|\n",
      "+-----------+-----------------------+\n",
      "only showing top 20 rows\n",
      "\n"
     ]
    }
   ],
   "source": [
    "\n",
    "# group by customer_id and aggregate the sum of transaction amount\n",
    "\n",
    "total_amount_per_customer = filtered_df.groupBy(\"customer_id\").agg({\"transaction_amount\":\"sum\"})\n",
    "#display the result\n",
    "\n",
    "total_amount_per_customer.show()"
   ]
  },
  {
   "cell_type": "markdown",
   "metadata": {},
   "source": [
    "<details>\n",
    "    <summary>Click here for Solution</summary>\n",
    "\n",
    "```python\n",
    "\n",
    "from pyspark.sql.functions import sum\n",
    "   \n",
    "# group by customer_id and aggregate the sum of transaction amount\n",
    "\n",
    "total_amount_per_customer = filtered_df.groupBy('customer_id').agg(sum('transaction_amount').alias('total_amount'))\n",
    "\n",
    "#display the result\n",
    "total_amount_per_customer.show()\n",
    "```\n",
    "\n",
    "</details>\n"
   ]
  },
  {
   "cell_type": "markdown",
   "metadata": {},
   "source": [
    "#### Task 9: Write the result to a Hive table\n",
    "\n",
    "Write `total_amount_per_customer` to a Hive table named **customer_totals**.\n"
   ]
  },
  {
   "cell_type": "code",
   "execution_count": 21,
   "metadata": {},
   "outputs": [],
   "source": [
    "# Write total_amount_per_customer to a Hive table named customer_totals\n",
    "total_amount_per_customer.write.mode(\"overwrite\").saveAsTable(\"customer_totals\")\n",
    "# !echo %PATH%"
   ]
  },
  {
   "cell_type": "markdown",
   "metadata": {},
   "source": [
    "\n",
    "<details>\n",
    "    <summary>Click here for Solution</summary>\n",
    "\n",
    "```python\n",
    "\n",
    "# Write total_amount_per_customer to a Hive table named customer_totals\n",
    "total_amount_per_customer.write.mode(\"overwrite\").saveAsTable(\"customer_totals\")\n",
    "```\n",
    "\n",
    "</details>\n"
   ]
  },
  {
   "cell_type": "markdown",
   "metadata": {},
   "source": [
    "#### Task 10: Write the filtered data to HDFS\n",
    "\n",
    "Write `filtered_df` to HDFS in parquet format to a file named **filtered_data**.\n"
   ]
  },
  {
   "cell_type": "code",
   "execution_count": 23,
   "metadata": {},
   "outputs": [],
   "source": [
    "#Write filtered_df to HDFS in parquet format file filtered_data.parquet\n",
    "\n",
    "filtered_df.write.mode(\"overwrite\").parquet(\"filtered_data.parquet\")"
   ]
  },
  {
   "cell_type": "markdown",
   "metadata": {},
   "source": [
    "\n",
    "<details>\n",
    "    <summary>Click here for Solution</summary>\n",
    "\n",
    "```python\n",
    "\n",
    "#Write filtered_df to HDFS in parquet format file filtered_data\n",
    "\n",
    "filtered_df.write.mode(\"overwrite\").parquet(\"filtered_data.parquet\")\n",
    "```\n",
    "\n",
    "</details>\n"
   ]
  },
  {
   "cell_type": "markdown",
   "metadata": {},
   "source": [
    "#### Task 11: Add a new column based on a condition\n",
    "\n",
    "Add a new column named **high_value** to `df1` indicating whether the transaction_amount is greater than 5000. When the value is greater than 5000, the value of the column should be **Yes**. When the value is less than or equal to 5000, the value of the column should be **No**. \n",
    "\n",
    "*Hint: Use when and lit from pyspark.sql.functions\n"
   ]
  },
  {
   "cell_type": "code",
   "execution_count": 26,
   "metadata": {},
   "outputs": [
    {
     "name": "stdout",
     "output_type": "stream",
     "text": [
      "+-----------+-----------+------------------+-----------+--------+----------+\n",
      "|customer_id|date_column|transaction_amount|description|location|high_value|\n",
      "+-----------+-----------+------------------+-----------+--------+----------+\n",
      "|          1|   1/1/2022|              5000| Purchase A| Store A|        No|\n",
      "|          2|  15/2/2022|              1200| Purchase B| Store B|        No|\n",
      "|          3|  20/3/2022|               800| Purchase C| Store C|        No|\n",
      "|          4|  10/4/2022|              3000| Purchase D| Store D|        No|\n",
      "|          5|   5/5/2022|              6000| Purchase E| Store E|       Yes|\n",
      "|          6|  10/6/2022|              4500| Purchase F| Store F|        No|\n",
      "|          7|  15/7/2022|               200| Purchase G| Store G|        No|\n",
      "|          8|  20/8/2022|              3500| Purchase H| Store H|        No|\n",
      "|          9|  25/9/2022|               700| Purchase I| Store I|        No|\n",
      "|         10| 30/10/2022|              1800| Purchase J| Store J|        No|\n",
      "|         11|  5/11/2022|              2200| Purchase K| Store K|        No|\n",
      "|         12| 10/12/2022|               900| Purchase L| Store L|        No|\n",
      "|         13|  15/1/2023|              4800| Purchase M| Store M|        No|\n",
      "|         14|  20/2/2023|               300| Purchase N| Store N|        No|\n",
      "|         15|  25/3/2023|              4200| Purchase O| Store O|        No|\n",
      "|         16|  30/4/2023|              2600| Purchase P| Store P|        No|\n",
      "|         17|   5/5/2023|               700| Purchase Q| Store Q|        No|\n",
      "|         18|  10/6/2023|              1500| Purchase R| Store R|        No|\n",
      "|         19|  15/7/2023|              3200| Purchase S| Store S|        No|\n",
      "|         20|  20/8/2023|              1000| Purchase T| Store T|        No|\n",
      "+-----------+-----------+------------------+-----------+--------+----------+\n",
      "only showing top 20 rows\n",
      "\n"
     ]
    }
   ],
   "source": [
    "# Add new column with value indicating whether transaction amount is > 5000 or not\n",
    "from pyspark.sql.functions import when, lit\n",
    "df1 = df1.withColumn(\"high_value\",when(df1.transaction_amount > 5000, lit(\"Yes\")).otherwise(lit(\"No\")))\n",
    "df1.show()"
   ]
  },
  {
   "cell_type": "markdown",
   "metadata": {},
   "source": [
    "\n",
    "<details>\n",
    "    <summary>Click here for Solution</summary>\n",
    "\n",
    "```python\n",
    "\n",
    "from pyspark.sql.functions import when, lit\n",
    "\n",
    "# Add new column with value indicating whether transaction amount is > 5000 or not\n",
    "df1 = df1.withColumn(\"high_value\", when(df1.transaction_amount > 5000, lit(\"Yes\")).otherwise(lit(\"No\")))\n",
    "```\n",
    "\n",
    "</details>\n"
   ]
  },
  {
   "cell_type": "markdown",
   "metadata": {},
   "source": [
    "#### Task 12: Calculate the average transaction value per quarter\n",
    "\n",
    "Calculate and display the average transaction value for each quarter in `df2` and create a new dataframe named `average_value_per_quarter` with column `avg_trans_val`.\n",
    "\n",
    "*Hint: Use avg from pyspark.sql.functions*\n"
   ]
  },
  {
   "cell_type": "code",
   "execution_count": 36,
   "metadata": {},
   "outputs": [
    {
     "name": "stdout",
     "output_type": "stream",
     "text": [
      "+-------+----------------------+\n",
      "|quarter|avg(transaction_value)|\n",
      "+-------+----------------------+\n",
      "|      1|    1416.6666666666667|\n",
      "|      3|    2766.6666666666665|\n",
      "|      4|                1000.0|\n",
      "|      2|    1333.3333333333333|\n",
      "+-------+----------------------+\n",
      "\n"
     ]
    }
   ],
   "source": [
    "#calculate the average transaction value for each quarter in df2\n",
    "\n",
    "from pyspark.sql.functions import avg\n",
    "#show the average transaction value for each quarter in df2    \n",
    "\n",
    "average_value_per_quarter = filtered_df.groupby(\"quarter\").agg(avg(\"transaction_value\")).alias(\"aver_value_per_quarter\")\n",
    "average_value_per_quarter.show()\n"
   ]
  },
  {
   "cell_type": "markdown",
   "metadata": {},
   "source": [
    "\n",
    "<details>\n",
    "    <summary>Click here for Solution</summary>\n",
    "\n",
    "```python\n",
    "from pyspark.sql.functions import avg\n",
    "\n",
    "#calculate the average transaction value for each quarter in df2\n",
    "average_value_per_quarter = df2.groupBy('quarter').agg(avg(\"transaction_value\").alias(\"average_value_per_quarter\"))\n",
    "\n",
    "    \n",
    "#show the average transaction value for each quarter in df2    \n",
    "average_value_per_quarter.show()\n",
    "\n",
    "```\n",
    "\n",
    "</details>\n"
   ]
  },
  {
   "cell_type": "markdown",
   "metadata": {},
   "source": [
    "#### Task 13: Write the result to a Hive table\n",
    "\n",
    "Write `average_value_per_quarter` to a Hive table named **quarterly_averages**.\n"
   ]
  },
  {
   "cell_type": "code",
   "execution_count": 39,
   "metadata": {},
   "outputs": [
    {
     "name": "stdout",
     "output_type": "stream",
     "text": [
      "+-------+----------------------+\n",
      "|quarter|avg(transaction_value)|\n",
      "+-------+----------------------+\n",
      "|      1|    1416.6666666666667|\n",
      "|      3|    2766.6666666666665|\n",
      "|      4|                1000.0|\n",
      "|      2|    1333.3333333333333|\n",
      "+-------+----------------------+\n",
      "\n"
     ]
    }
   ],
   "source": [
    "#Write average_value_per_quarter to a Hive table named quarterly_averages\n",
    "average_value_per_quarter.write.mode(\"overwrite\").saveAsTable(\"quarterly_averages\")\n",
    "spark.sql(\"select * from quarterly_averages\").show()"
   ]
  },
  {
   "cell_type": "markdown",
   "metadata": {},
   "source": [
    "\n",
    "<details>\n",
    "    <summary>Click here for Solution</summary>\n",
    "\n",
    "```python\n",
    "\n",
    "#Write average_value_per_quarter to a Hive table named quarterly_averages\n",
    "\n",
    "average_value_per_quarter.write.mode(\"overwrite\").saveAsTable(\"quarterly_averages\")\n",
    "\n",
    "```\n",
    "\n",
    "</details>\n"
   ]
  },
  {
   "cell_type": "markdown",
   "metadata": {},
   "source": [
    "#### Task 14: Calculate the total transaction value per year\n",
    "\n",
    "Calculate and display the total transaction value for each year in `df1` and create a new dataframe named `total_value_per_year` with column `total_transaction_val`.\n"
   ]
  },
  {
   "cell_type": "code",
   "execution_count": 48,
   "metadata": {},
   "outputs": [
    {
     "name": "stdout",
     "output_type": "stream",
     "text": [
      "+----+-----------------------+\n",
      "|year|sum(transaction_amount)|\n",
      "+----+-----------------------+\n",
      "|2025|                  25700|\n",
      "|2027|                  25700|\n",
      "|2023|                  28100|\n",
      "|2022|                  29800|\n",
      "|2026|                  25700|\n",
      "|2029|                  25700|\n",
      "|2030|                   9500|\n",
      "|2028|                  25700|\n",
      "|2024|                  25700|\n",
      "+----+-----------------------+\n",
      "\n"
     ]
    }
   ],
   "source": [
    "# calculate the total transaction value for each year in df1.\n",
    "\n",
    "total_value_per_year = df1.groupBy(\"year\").agg({\"transaction_amount\":\"sum\"})\n",
    "# show the total transaction value for each year in df1.\n",
    "\n",
    "total_value_per_year.show()\n"
   ]
  },
  {
   "cell_type": "markdown",
   "metadata": {},
   "source": [
    "\n",
    "<details>\n",
    "    <summary>Click here for Solution</summary>\n",
    "\n",
    "```python\n",
    "\n",
    "# calculate the total transaction value for each year in df1.\n",
    "total_value_per_year = df1.groupBy('year').agg(sum(\"transaction_amount\").alias(\"total_transaction_val\"))\n",
    "\n",
    "# show the total transaction value for each year in df1.\n",
    "total_value_per_year.show()\n",
    "\n",
    "```\n",
    "\n",
    "</details>\n"
   ]
  },
  {
   "cell_type": "markdown",
   "metadata": {},
   "source": [
    "#### Task 15: Write the result to HDFS\n",
    "\n",
    "Write `total_value_per_year` to HDFS in the CSV format to file named **total_value_per_year**.\n",
    "\n"
   ]
  },
  {
   "cell_type": "code",
   "execution_count": 50,
   "metadata": {},
   "outputs": [],
   "source": [
    "#Write total_value_per_year to HDFS in the CSV format\n",
    "\n",
    "total_value_per_year.write.mode(\"overwrite\").csv(\"total_value_per_year.csv\")"
   ]
  },
  {
   "cell_type": "markdown",
   "metadata": {},
   "source": [
    "\n",
    "<details>\n",
    "    <summary>Click here for Solution</summary>\n",
    "\n",
    "```python\n",
    "\n",
    "#Write total_value_per_year to HDFS in the CSV format\n",
    "\n",
    "total_value_per_year.write.mode(\"overwrite\").csv(\"total_value_per_year.csv\")\n",
    "\n",
    "```\n",
    "\n",
    "</details>\n"
   ]
  },
  {
   "cell_type": "markdown",
   "metadata": {},
   "source": [
    "### Congratulations! You have completed the lab.\n",
    "This practice project provides hands-on experience with data transformation and integration using PySpark. You've performed various tasks, including adding columns, renaming columns, dropping unnecessary columns, joining dataframes, and writing the results into both a Hive warehouse and an HDFS file system.\n"
   ]
  },
  {
   "cell_type": "markdown",
   "metadata": {},
   "source": [
    "## Authors\n",
    "\n",
    "Raghul Ramesh\n",
    "\n",
    "Lavanya T S\n"
   ]
  },
  {
   "cell_type": "markdown",
   "metadata": {},
   "source": [
    "<!--## Change Log -->\n"
   ]
  },
  {
   "cell_type": "markdown",
   "metadata": {},
   "source": [
    "<!--|Date (YYYY-MM-DD)|Version|Changed By|Change Description|\n",
    "|-|-|-|-|\n",
    "|2023-09-01|0.1|Lavanya T S|Initial version|\n",
    "|2023-09-08|0.2|Pornima More|QA pass with edits|-->\n"
   ]
  },
  {
   "cell_type": "markdown",
   "metadata": {},
   "source": [
    "<h3 align=\"center\"> &#169; IBM Corporation. All rights reserved. <h3/>\n"
   ]
  }
 ],
 "metadata": {
  "kernelspec": {
   "display_name": "Python 3 (ipykernel)",
   "language": "python",
   "name": "python3"
  },
  "language_info": {
   "codemirror_mode": {
    "name": "ipython",
    "version": 3
   },
   "file_extension": ".py",
   "mimetype": "text/x-python",
   "name": "python",
   "nbconvert_exporter": "python",
   "pygments_lexer": "ipython3",
   "version": "3.9.0"
  },
  "prev_pub_hash": "11f72aae77d8016a27f044c7c8c6c15789e27d81d5809ee65ea885d8da7126a7"
 },
 "nbformat": 4,
 "nbformat_minor": 4
}
