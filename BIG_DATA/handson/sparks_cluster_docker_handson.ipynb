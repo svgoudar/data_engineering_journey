{
 "cells": [
  {
   "cell_type": "code",
   "execution_count": 1,
   "id": "eb66f434-7296-4d07-80ac-d7177158f75f",
   "metadata": {},
   "outputs": [
    {
     "name": "stderr",
     "output_type": "stream",
     "text": [
      "Cloning into 'docker-spark'...\n"
     ]
    }
   ],
   "source": [
    "!git clone https://github.com/big-data-europe/docker-spark.git"
   ]
  },
  {
   "cell_type": "code",
   "execution_count": null,
   "id": "56cdd16f-22be-47df-98da-6176d6b61e4d",
   "metadata": {},
   "outputs": [],
   "source": []
  }
 ],
 "metadata": {
  "kernelspec": {
   "display_name": "Python 3 (ipykernel)",
   "language": "python",
   "name": "python3"
  },
  "language_info": {
   "codemirror_mode": {
    "name": "ipython",
    "version": 3
   },
   "file_extension": ".py",
   "mimetype": "text/x-python",
   "name": "python",
   "nbconvert_exporter": "python",
   "pygments_lexer": "ipython3",
   "version": "3.9.0"
  }
 },
 "nbformat": 4,
 "nbformat_minor": 5
}
