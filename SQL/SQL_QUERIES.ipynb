{
 "cells": [
  {
   "cell_type": "code",
   "execution_count": 3,
   "id": "8a97731e",
   "metadata": {},
   "outputs": [
    {
     "data": {
      "text/plain": [
       "\"SELECT COLUMN_NAME  \\nFROM information_schema.COLUMNS  \\nWHERE TABLE_NAME = 'customer';  \""
      ]
     },
     "execution_count": 3,
     "metadata": {},
     "output_type": "execute_result"
    }
   ],
   "source": [
    "# https://www.geeksforgeeks.org/sql-tutorial/?ref=header_search\n",
    "\n",
    "# CREATE TABLE Customer(\n",
    "#     CustomerID INT PRIMARY KEY,\n",
    "#     CustomerName VARCHAR(50),\n",
    "#     LastName VARCHAR(50),\n",
    "#     Country VARCHAR(50),\n",
    "#     Age INT ,\n",
    "#   \tPhone INT\n",
    "# );\n",
    "\n",
    "# DESCRIBE \n",
    "\n",
    "# postgres=# \\d customer\n",
    "\n",
    "\"\"\"SELECT COLUMN_NAME  \n",
    "FROM information_schema.COLUMNS  \n",
    "WHERE TABLE_NAME = 'customer';  \"\"\"\n",
    "\n",
    "\n",
    "# select * from customer;\n",
    "# Import from CSV file\n",
    "# COPY customer from 'C:\\POSTGRES\\organizations-100.csv' DELIMITER ',' CSV HEADER;\n"
   ]
  },
  {
   "cell_type": "code",
   "execution_count": 4,
   "id": "35751855",
   "metadata": {},
   "outputs": [],
   "source": [
    "# SQL is case insensitive\n",
    "# # Attribute:Attributes are the properties that define a relation. e.g.; ROLL_NO, NAME etc.\n",
    "# Tuple:Each row in the relation is known as tuple. The above relation contains 4 tuples, one of which is shown as:\n",
    "# 1\tRAM\tDELHI\t9455123451\t18\n",
    "# Degree:The number of attributes in the relation is known as degree of the relation. The STUDENT relation defined above has degree 5.\n",
    "# Cardinality:The number of tuples in a relation is known as cardinality. The STUDENT relation defined above has cardinality 4.\n",
    "# Column:Column represents the set of values for a particular attribute. The column ROLL_NO is extracted from relation STUDENT.\n",
    "\n",
    "# SELECT [DISTINCT] Attribute_List FROM R1,R2….RM\n",
    "# [WHERE condition]\n",
    "# [GROUP BY (Attributes)[HAVING condition]]\n",
    "# [ORDER BY(Attributes)[DESC]];\n",
    "\n"
   ]
  },
  {
   "cell_type": "markdown",
   "id": "ae6d81ec",
   "metadata": {},
   "source": [
    "Data Definition Language:It is used to define the structure of the database. e.g; CREATE TABLE, ADD COLUMN, DROP COLUMN and so on.\n",
    "Data Manipulation Language:It is used to manipulate data in the relations. e.g.; INSERT, DELETE, UPDATE and so on.\n",
    "Data Query Language:It is used to extract the data from the relations. e.g.; SELECT So first we will consider the Data Query Language. A generic query to retrieve from a relational database is:"
   ]
  },
  {
   "cell_type": "code",
   "execution_count": null,
   "id": "a1ac7e2a",
   "metadata": {},
   "outputs": [],
   "source": [
    "DDL (Data Definition Language)\n",
    "DQL (Data Query Language)\n",
    "DML(Data Manipulation Language)\n",
    "DCL (Data Control Language)\n",
    "TCL (Transaction Control Language)\n",
    "\n",
    "DDL: Data Definition Language actually consists of the SQL commands that can be used to define the database schema.\n",
    "    CREATE: This command is used to create the database or its objects (like table, index, function, views, store procedure, and triggers).\n",
    "    DROP: This command is used to delete objects from the database.\n",
    "    ALTER: This is used to alter the structure of the database.\n",
    "    TRUNCATE: This is used to remove all records from a table, including all spaces allocated for the records are removed.\n",
    "    COMMENT: This is used to add comments to the data dictionary.\n",
    "    RENAME: This is used to rename an object existing in the database.\n",
    "\n"
   ]
  }
 ],
 "metadata": {
  "kernelspec": {
   "display_name": "Python 3 (ipykernel)",
   "language": "python",
   "name": "python3"
  },
  "language_info": {
   "codemirror_mode": {
    "name": "ipython",
    "version": 3
   },
   "file_extension": ".py",
   "mimetype": "text/x-python",
   "name": "python",
   "nbconvert_exporter": "python",
   "pygments_lexer": "ipython3",
   "version": "3.10.9"
  }
 },
 "nbformat": 4,
 "nbformat_minor": 5
}
